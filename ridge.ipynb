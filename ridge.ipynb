{
 "cells": [
  {
   "cell_type": "code",
   "execution_count": 1,
   "metadata": {},
   "outputs": [
    {
     "name": "stdout",
     "output_type": "stream",
     "text": [
      "RMSE du modèle Ridge : 193955.87\n",
      "R² du modèle Ridge : 0.727\n",
      "Meilleurs paramètres : {'feature_selection__k': 11, 'model__alpha': 10}\n",
      "Meilleur RMSE en validation croisée : 177996.15\n",
      "R² du meilleur modèle : 0.772\n"
     ]
    }
   ],
   "source": [
    "import pandas as pd\n",
    "import numpy as np\n",
    "from sklearn.pipeline import Pipeline\n",
    "from sklearn.impute import SimpleImputer\n",
    "from sklearn.preprocessing import StandardScaler\n",
    "from sklearn.linear_model import Ridge  # Régression Ridge (L2) ou Lasso si besoin\n",
    "from sklearn.model_selection import train_test_split, GridSearchCV\n",
    "from sklearn.feature_selection import SelectKBest, f_regression\n",
    "from sklearn.metrics import mean_squared_error, r2_score\n",
    "\n",
    "# Chargement des données\n",
    "df = pd.read_csv(\"train_data.csv\")  \n",
    "\n",
    "# Calcul du prix moyen par zipcode\n",
    "df[\"prix_moy_zipcode\"] = df.groupby(\"zipcode\")[\"prix\"].transform(\"mean\")\n",
    "\n",
    "# Sélection des variables explicatives\n",
    "X = df.drop(columns=[\"prix\", \"id\", \"date\", \"zipcode\", \"lat\", \"long\"])  \n",
    "y = df[\"prix\"]\n",
    "\n",
    "# Train/test split (20% pour le test)\n",
    "X_train, X_test, y_train, y_test = train_test_split(X, y, test_size=0.2, random_state=42)\n",
    "\n",
    "# Pipeline avec régularisation Ridge\n",
    "pipeline = Pipeline([\n",
    "    (\"imputer\", SimpleImputer(strategy=\"mean\")),  # Imputation des valeurs manquantes\n",
    "    (\"scaler\", StandardScaler()),  # Standardisation\n",
    "    (\"feature_selection\", SelectKBest(score_func=f_regression, k=5)),  # Sélection des meilleures variables\n",
    "    (\"model\", Ridge())  # Régression Ridge (L2)\n",
    "])\n",
    "\n",
    "# Entraînement du modèle\n",
    "pipeline.fit(X_train, y_train)\n",
    "\n",
    "# Prédictions\n",
    "y_pred = pipeline.predict(X_test)\n",
    "\n",
    "# Évaluation du modèle\n",
    "rmse = np.sqrt(mean_squared_error(y_test, y_pred))\n",
    "r2 = r2_score(y_test, y_pred)\n",
    "\n",
    "print(f\"RMSE du modèle Ridge : {rmse:.2f}\")\n",
    "print(f\"R² du modèle Ridge : {r2:.3f}\")\n",
    "\n",
    "# GridSearchCV pour optimiser la sélection des variables et la régularisation\n",
    "param_grid = {\n",
    "    \"feature_selection__k\": [3, 5, 7, 9, 11],  # Nombre de variables sélectionnées\n",
    "    \"model__alpha\": [0.01, 0.1, 1, 10, 100]  # Force de la régularisation\n",
    "}\n",
    "\n",
    "# Recherche des meilleurs hyperparamètres avec validation croisée\n",
    "grid_search = GridSearchCV(pipeline, param_grid, cv=5, scoring=\"neg_root_mean_squared_error\", n_jobs=-1)\n",
    "grid_search.fit(X_train, y_train)\n",
    "\n",
    "# Meilleurs paramètres et scores optimisés\n",
    "best_rmse = -grid_search.best_score_  # Inversion car GridSearchCV retourne une valeur négative\n",
    "best_r2 = grid_search.best_estimator_.score(X_test, y_test)  # Score R² du meilleur modèle\n",
    "\n",
    "print(f\"Meilleurs paramètres : {grid_search.best_params_}\")\n",
    "print(f\"Meilleur RMSE en validation croisée : {best_rmse:.2f}\")\n",
    "print(f\"R² du meilleur modèle : {best_r2:.3f}\")\n"
   ]
  }
 ],
 "metadata": {
  "kernelspec": {
   "display_name": "Python 3",
   "language": "python",
   "name": "python3"
  },
  "language_info": {
   "codemirror_mode": {
    "name": "ipython",
    "version": 3
   },
   "file_extension": ".py",
   "mimetype": "text/x-python",
   "name": "python",
   "nbconvert_exporter": "python",
   "pygments_lexer": "ipython3",
   "version": "3.12.9"
  }
 },
 "nbformat": 4,
 "nbformat_minor": 2
}
