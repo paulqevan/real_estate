{
 "cells": [
  {
   "cell_type": "code",
   "execution_count": null,
   "metadata": {},
   "outputs": [
    {
     "name": "stdout",
     "output_type": "stream",
     "text": [
      "RMSE du modèle Random Forest : 166804.49\n",
      "R² du modèle Random Forest : 0.798\n",
      "Meilleurs paramètres : {'feature_selection__k': 11, 'model__max_depth': 30, 'model__n_estimators': 100}\n",
      "Meilleur RMSE en validation croisée : 140520.75\n",
      "R² du meilleur modèle : 0.844\n"
     ]
    }
   ],
   "source": [
    "import pandas as pd\n",
    "import numpy as np\n",
    "from sklearn.pipeline import Pipeline\n",
    "from sklearn.impute import SimpleImputer\n",
    "from sklearn.preprocessing import StandardScaler\n",
    "from sklearn.ensemble import RandomForestRegressor  # Import du modèle Random Forest\n",
    "from sklearn.model_selection import train_test_split, GridSearchCV\n",
    "from sklearn.feature_selection import SelectKBest, f_regression\n",
    "from sklearn.metrics import mean_squared_error, r2_score\n",
    "\n",
    "# Chargement des données\n",
    "df = pd.read_csv(\"train_data.csv\")  \n",
    "\n",
    "# Calcul du prix moyen par zipcode\n",
    "df[\"prix_moy_zipcode\"] = df.groupby(\"zipcode\")[\"prix\"].transform(\"mean\")\n",
    "\n",
    "# Sélection des variables explicatives\n",
    "X = df.drop(columns=[\"prix\", \"id\", \"date\", \"zipcode\", \"lat\", \"long\"])  \n",
    "y = df[\"prix\"]\n",
    "\n",
    "# Train/test split (20% pour le test)\n",
    "X_train, X_test, y_train, y_test = train_test_split(X, y, test_size=0.2, random_state=42)\n",
    "\n",
    "# Pipeline avec Random Forest\n",
    "pipeline = Pipeline([\n",
    "    (\"imputer\", SimpleImputer(strategy=\"mean\")),  # Imputation des valeurs manquantes\n",
    "    (\"scaler\", StandardScaler()),  # Standardisation (pas obligatoire pour RF, mais utile pour SelectKBest)\n",
    "    (\"feature_selection\", SelectKBest(score_func=f_regression, k=5)),  # Sélection des meilleures variables\n",
    "    (\"model\", RandomForestRegressor(random_state=42, n_jobs=-1))  # Modèle Random Forest\n",
    "])\n",
    "\n",
    "# Entraînement du modèle\n",
    "pipeline.fit(X_train, y_train)\n",
    "\n",
    "# Prédictions\n",
    "y_pred = pipeline.predict(X_test)\n",
    "\n",
    "# Évaluation du modèle\n",
    "rmse = np.sqrt(mean_squared_error(y_test, y_pred))\n",
    "r2 = r2_score(y_test, y_pred)\n",
    "\n",
    "print(f\"RMSE du modèle Random Forest : {rmse:.2f}\")\n",
    "print(f\"R² du modèle Random Forest : {r2:.3f}\")\n",
    "\n",
    "# GridSearchCV pour optimiser les hyperparamètres de Random Forest\n",
    "param_grid = {\n",
    "    \"feature_selection__k\": [3, 5, 7, 9, 11],  # Nombre de variables sélectionnées\n",
    "    \"model__n_estimators\": [50, 100, 200],  # Nombre d'arbres dans la forêt\n",
    "    \"model__max_depth\": [None, 10, 20, 30]  # Profondeur maximale de l'arbre\n",
    "}\n",
    "\n",
    "# Recherche des meilleurs hyperparamètres avec validation croisée\n",
    "grid_search = GridSearchCV(pipeline, param_grid, cv=5, scoring=\"neg_root_mean_squared_error\", n_jobs=-1)\n",
    "grid_search.fit(X_train, y_train)\n",
    "\n",
    "# Meilleurs paramètres et scores optimisés\n",
    "best_rmse = -grid_search.best_score_  # Inversion car GridSearchCV retourne une valeur négative\n",
    "best_r2 = grid_search.best_estimator_.score(X_test, y_test)  # Score R² du meilleur modèle\n",
    "\n",
    "\n",
    "\n",
    "print(f\"Meilleurs paramètres : {grid_search.best_params_}\")\n",
    "print(f\"Meilleur RMSE en validation croisée : {best_rmse:.2f}\")\n",
    "print(f\"R² du meilleur modèle : {best_r2:.3f}\")\n"
   ]
  },
  {
   "cell_type": "code",
   "execution_count": 4,
   "metadata": {},
   "outputs": [
    {
     "name": "stdout",
     "output_type": "stream",
     "text": [
      "📂 Fichier 'submission.csv' généré avec succès !\n"
     ]
    },
    {
     "name": "stderr",
     "output_type": "stream",
     "text": [
      "C:\\Users\\qevan\\AppData\\Local\\Temp\\ipykernel_20340\\134256900.py:14: FutureWarning: A value is trying to be set on a copy of a DataFrame or Series through chained assignment using an inplace method.\n",
      "The behavior will change in pandas 3.0. This inplace method will never work because the intermediate object on which we are setting values always behaves as a copy.\n",
      "\n",
      "For example, when doing 'df[col].method(value, inplace=True)', try using 'df.method({col: value}, inplace=True)' or df[col] = df[col].method(value) instead, to perform the operation inplace on the original object.\n",
      "\n",
      "\n",
      "  df_test[\"prix_moy_zipcode\"].fillna(df_train[\"prix\"].mean(), inplace=True)\n"
     ]
    }
   ],
   "source": [
    "best_model=grid_search.best_estimator_\n",
    "\n",
    "# Charger les données de test\n",
    "df_test = pd.read_csv(\"test_data.csv\")\n",
    "\n",
    "# Charger les données d'entraînement pour récupérer les moyennes par zipcode\n",
    "df_train = pd.read_csv(\"train_data.csv\")\n",
    "prix_moy_zipcode = df_train.groupby(\"zipcode\")[\"prix\"].mean()\n",
    "\n",
    "# Ajouter la colonne prix moyen par zipcode dans df_test (basé sur df_train)\n",
    "df_test[\"prix_moy_zipcode\"] = df_test[\"zipcode\"].map(prix_moy_zipcode)\n",
    "\n",
    "# Remplacer les NaN (au cas où certains zipcodes de test ne sont pas dans train)\n",
    "df_test[\"prix_moy_zipcode\"].fillna(df_train[\"prix\"].mean(), inplace=True)\n",
    "\n",
    "# Supprimer les colonnes non utilisées dans la prédiction\n",
    "X_test_final = df_test.drop(columns=[\"id\", \"date\", \"zipcode\", \"lat\", \"long\"])\n",
    "\n",
    "# Prédiction avec le meilleur modèle entraîné\n",
    "y_pred_test = best_model.predict(X_test_final)\n",
    "\n",
    "# Créer un DataFrame pour soumission Kaggle\n",
    "submission = pd.DataFrame({\"id\": df_test[\"id\"], \"prix\": y_pred_test})\n",
    "\n",
    "# Sauvegarder en CSV\n",
    "submission.to_csv(\"submission.csv\", index=False)\n",
    "\n",
    "print(\"📂 Fichier 'submission.csv' généré avec succès !\")"
   ]
  }
 ],
 "metadata": {
  "kernelspec": {
   "display_name": "Python 3",
   "language": "python",
   "name": "python3"
  },
  "language_info": {
   "codemirror_mode": {
    "name": "ipython",
    "version": 3
   },
   "file_extension": ".py",
   "mimetype": "text/x-python",
   "name": "python",
   "nbconvert_exporter": "python",
   "pygments_lexer": "ipython3",
   "version": "3.12.9"
  }
 },
 "nbformat": 4,
 "nbformat_minor": 2
}
